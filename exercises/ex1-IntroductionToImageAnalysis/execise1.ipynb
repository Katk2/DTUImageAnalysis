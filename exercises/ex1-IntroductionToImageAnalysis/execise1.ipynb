{
 "cells": [
  {
   "cell_type": "code",
   "execution_count": 4,
   "metadata": {},
   "outputs": [],
   "source": [
    "from skimage import color, io, measure, img_as_ubyte\n",
    "from skimage.measure import profile_line\n",
    "from skimage.transform import rescale, resize\n",
    "import matplotlib.pyplot as plt\n",
    "import numpy as np\n",
    "import pydicom as dicom"
   ]
  },
  {
   "cell_type": "code",
   "execution_count": 5,
   "metadata": {},
   "outputs": [],
   "source": [
    "# Directory containing data and images\n",
    "in_dir = \"data/\"\n",
    "\n",
    "# X-ray image\n",
    "im_name = \"metacarpals.png\"\n",
    "\n",
    "# Read the image.\n",
    "# Here the directory and the image name is concatenated\n",
    "# by \"+\" to give the full path to the image.\n",
    "im_org = io.imread(in_dir + im_name)"
   ]
  }
 ],
 "metadata": {
  "kernelspec": {
   "display_name": "Python 3",
   "language": "python",
   "name": "python3"
  },
  "language_info": {
   "codemirror_mode": {
    "name": "ipython",
    "version": 3
   },
   "file_extension": ".py",
   "mimetype": "text/x-python",
   "name": "python",
   "nbconvert_exporter": "python",
   "pygments_lexer": "ipython3",
   "version": "3.11.9"
  }
 },
 "nbformat": 4,
 "nbformat_minor": 2
}
